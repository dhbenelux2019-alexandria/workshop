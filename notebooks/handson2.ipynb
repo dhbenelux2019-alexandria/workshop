{
 "cells": [
  {
   "cell_type": "markdown",
   "metadata": {},
   "source": [
    "# Hands-on 2: Working with views in _Alexandria_"
   ]
  },
  {
   "cell_type": "markdown",
   "metadata": {},
   "source": [
    "### 2.1. Initialise _Alexandria_\n",
    "\n",
    "First, we will prepare your working directory for usage by initialising _Alexandria_:"
   ]
  },
  {
   "cell_type": "code",
   "execution_count": null,
   "metadata": {},
   "outputs": [],
   "source": [
    "! alexandria init"
   ]
  },
  {
   "cell_type": "markdown",
   "metadata": {},
   "source": [
    "### 2.2. Register a document in _Alexandria_\n",
    "\n",
    "The next step is to register \"lighthouse-woolf.tagml\" as a document in the _Alexandria_ repository you just started on your machine."
   ]
  },
  {
   "cell_type": "code",
   "execution_count": null,
   "metadata": {},
   "outputs": [],
   "source": [
    "! alexandria add tagml/lighthouse-woolf.tagml"
   ]
  },
  {
   "cell_type": "markdown",
   "metadata": {},
   "source": [
    "You have now added the TAGML file \"lighthouse-woolf.tagml\".\n",
    "\n",
    "At all times, you can check which documents and views are registered in _Alexandria_:"
   ]
  },
  {
   "cell_type": "code",
   "execution_count": null,
   "metadata": {},
   "outputs": [],
   "source": [
    "! alexandria status"
   ]
  },
  {
   "cell_type": "markdown",
   "metadata": {},
   "source": [
    "_Alexandria_ will inform you about the registered documents and views, and shows the state of the source files.\n",
    "\n",
    "Adding files to _Alexandria_ basically means you have registered them for your local repository, but mind you: the files are not yet _committed_ to your local repository. Let's do that now:"
   ]
  },
  {
   "cell_type": "code",
   "execution_count": null,
   "metadata": {},
   "outputs": [],
   "source": [
    "! alexandria commit tagml/lighthouse-woolf.tagml"
   ]
  },
  {
   "cell_type": "markdown",
   "metadata": {},
   "source": [
    "You can also commit all files that you have added at once with `commit -a`, which means something like \"commit all at once\":"
   ]
  },
  {
   "cell_type": "code",
   "execution_count": null,
   "metadata": {},
   "outputs": [],
   "source": [
    "! alexandria commit -a"
   ]
  },
  {
   "cell_type": "markdown",
   "metadata": {},
   "source": [
    "#### Help! I get a syntax error\n",
    "\n",
    "When you commit a TAGML file to your local _Alexandria_ repository, the file is parsed automatically. If you made any syntax mistakes in your TAGML transcription, _Alexandria_ will abort the commit and inform you that you made a syntax error, what error it is exactly and in which line you can find it. You can go back to the file and correct the mistake. Once you have done that, you can commit the file again."
   ]
  },
  {
   "cell_type": "markdown",
   "metadata": {},
   "source": [
    "### 2.3. Define views on the text\n",
    "\n",
    "Conceptually, views are a selection of layers and/or or markup elements. In a JSON file, you identify the markup and layers you want to include or exclude in the view. We use the file \"lighthouse-woolf.tagml\" as a starting point for the view definition.  "
   ]
  },
  {
   "cell_type": "markdown",
   "metadata": {},
   "source": [
    "#### 2.3.1. Markup\n",
    "\n",
    "First, we create a view that includes only the markup element `s`.\n",
    "\n",
    "Open a new text file in the `views/` directory by selecting 'text file' in the 'New'-dropdown menu on the right side of the Jupyterhub environment.\n",
    "\n",
    "Enter the following lines of code in the text file:\n",
    "\n",
    "```json\n",
    "{\"includeMarkup\": [\"s\"]}\n",
    "```\n",
    "\n",
    "Change the name of the file to \"view-s-markup.json\".\n",
    "\n",
    "Save and close the file. "
   ]
  },
  {
   "cell_type": "markdown",
   "metadata": {},
   "source": [
    "#### 2.3.2. Layers\n",
    "\n",
    "Let's create another view, that includes all markup with the layer ID \"T\".\n",
    "\n",
    "Open a new text file in the `views/` directory and enter the following code:\n",
    "\n",
    "```json\n",
    "{\"includeLayer\":[\"T\"]}\n",
    "```\n",
    "\n",
    "Rename the file to \"view-lT.json\", then save and close the file."
   ]
  },
  {
   "cell_type": "markdown",
   "metadata": {},
   "source": [
    "### 2.4. Register views in _Alexandria_\n",
    "\n",
    "Let's commit the views we just created into our local repository:"
   ]
  },
  {
   "cell_type": "code",
   "execution_count": null,
   "metadata": {},
   "outputs": [],
   "source": [
    "! alexandria commit -a"
   ]
  },
  {
   "cell_type": "markdown",
   "metadata": {},
   "source": [
    "They should all be ready, so let's check with _Alexandria_ by running `alexandria status` again:"
   ]
  },
  {
   "cell_type": "code",
   "execution_count": null,
   "metadata": {},
   "outputs": [],
   "source": [
    "! alexandria status"
   ]
  },
  {
   "cell_type": "markdown",
   "metadata": {},
   "source": [
    "The command provides information about the version plus the documents and the views you have registered in the repository.\n",
    "\n",
    "Let's take a look at the views we have just created:"
   ]
  },
  {
   "cell_type": "code",
   "execution_count": null,
   "metadata": {},
   "outputs": [],
   "source": [
    "! ls views/"
   ]
  },
  {
   "cell_type": "markdown",
   "metadata": {},
   "source": [
    "We can now add these views to the _Alexandria_ repository as well. Note that files with the .json extension are automatically understood as views. You add the views in the same way as you've added the transcriptions:"
   ]
  },
  {
   "cell_type": "code",
   "execution_count": null,
   "metadata": {},
   "outputs": [],
   "source": [
    "! alexandria add views/view-s-markup.json\n",
    "! alexandria commit views/view-s-markup.json"
   ]
  },
  {
   "cell_type": "markdown",
   "metadata": {},
   "source": [
    "The name of the view is derived from the name of the file, so \"view-s-markup.json\" will become `view-s-markup` in the Alexandria repository.\n",
    "\n",
    "Repeat this step for the other views."
   ]
  },
  {
   "cell_type": "markdown",
   "metadata": {},
   "source": [
    "Check with `alexandria status` if everything worked:"
   ]
  },
  {
   "cell_type": "code",
   "execution_count": null,
   "metadata": {},
   "outputs": [],
   "source": [
    "! alexandria status"
   ]
  },
  {
   "cell_type": "markdown",
   "metadata": {},
   "source": [
    "### 2.5. Checkout a view\n",
    "\n",
    "You can use the views you have just defined to checkout a view on the documents:"
   ]
  },
  {
   "cell_type": "code",
   "execution_count": null,
   "metadata": {},
   "outputs": [],
   "source": [
    "! alexandria checkout view-s-markup"
   ]
  },
  {
   "cell_type": "markdown",
   "metadata": {},
   "source": [
    "This updates the TAGML files from the document to contain only text and `s` markup."
   ]
  },
  {
   "cell_type": "markdown",
   "metadata": {},
   "source": [
    "### 2.6. Deactivate a TAGML view  \n",
    "If you want to deactivate the view and return to the original tagml file, you can run:"
   ]
  },
  {
   "cell_type": "code",
   "execution_count": null,
   "metadata": {},
   "outputs": [],
   "source": [
    "! alexandria checkout -"
   ]
  },
  {
   "cell_type": "markdown",
   "metadata": {},
   "source": [
    "The `-` parameter after `checkout` will reset the TAGML files."
   ]
  },
  {
   "cell_type": "markdown",
   "metadata": {},
   "source": [
    "You can repeat these steps for the other view you have created. Play around with it for a while!"
   ]
  },
  {
   "cell_type": "markdown",
   "metadata": {},
   "source": [
    "[**TODO** link to next notebook]"
   ]
  }
 ],
 "metadata": {
  "kernelspec": {
   "display_name": "Python 3",
   "language": "python",
   "name": "python3"
  },
  "language_info": {
   "codemirror_mode": {
    "name": "ipython",
    "version": 3
   },
   "file_extension": ".py",
   "mimetype": "text/x-python",
   "name": "python",
   "nbconvert_exporter": "python",
   "pygments_lexer": "ipython3",
   "version": "3.6.5"
  }
 },
 "nbformat": 4,
 "nbformat_minor": 2
}
