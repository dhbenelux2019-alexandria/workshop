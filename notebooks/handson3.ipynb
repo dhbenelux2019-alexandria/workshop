{
 "cells": [
  {
   "cell_type": "markdown",
   "metadata": {},
   "source": [
    "# Hands-on 3: Transformations. From TAGML to HTML"
   ]
  },
  {
   "cell_type": "markdown",
   "metadata": {},
   "source": [
    "This notebook provides two examples of the transformation from TAGML to HTML. It assumes that you already completed the steps in [this notebook](reftonotebookhandson2). \n",
    "\n",
    "That means that _Alexandria_ is running on your local machine, that your local _Alexandria_ repository contains at least one TAGML file, and one or more views. \n",
    "\n",
    "If this is not the case, go back to [the previous notebook](https://dhbenelux2019-alexandria.github.io/workshop/notebooks/handson2.html) and make sure to follow all steps in that notebook."
   ]
  },
  {
   "cell_type": "markdown",
   "metadata": {},
   "source": [
    "## Introduction\n",
    "\n",
    "If you have an existing editorial workflow, you're likely to use X-technology tools like XSLT or XQuery for transformation, publication, visualisation or analysis. \n",
    "\n",
    "You can export your TAGML to a number of existing formats (XML, SVG, PNG and dot) so that you can continue using the publication framework of your choice. As a result, it is easy to implement _Alexandria_ into an existing workflow.\n",
    "\n",
    "Before you start, let's take a closer look at the implications and consequences of transforming a TAGML document to another data format."
   ]
  },
  {
   "cell_type": "markdown",
   "metadata": {},
   "source": [
    "### Envision the _Alexandria_ workflow\n",
    "![Workflow of Alexandria](images/workflow-alexandria_v3.png)"
   ]
  },
  {
   "cell_type": "markdown",
   "metadata": {},
   "source": [
    "Let's say that document `A` in your local repo contains three layers of markup. You may want to export the document _as is_, but keep in mind that it's rich in information and this has consequences for the export. For example: the more information document `A` contains, the more visually challenging an SVG file will be."
   ]
  },
  {
   "cell_type": "markdown",
   "metadata": {},
   "source": [
    "### Reduction of information\n",
    "\n",
    "Exporting a TAGML document to another format usually implies an information reduction, because of the richt data structure of TAG and the different types of data it contains. This means you have to make a number of decisions:\n",
    "\n",
    "1. What are the properties, strengths, and limitations of the format you are converting to? What are the consequences for the information you are converting? For example: if you are converting to XML, your text will be transformed in a hierarchical tree structure. \n",
    "\n",
    "\n",
    "2. What do you want to do with the exported file? Is it going to be a PNG or SVG file for visualisation, an XML file for further analysis or publication, etc. In short: what are the reasons for converting? \n",
    "\n",
    "With these considerations in mind, you can make an informed choice about what information you want to see, what information is irrelevant and what format will best suit your purposes."
   ]
  },
  {
   "cell_type": "markdown",
   "metadata": {},
   "source": [
    "## Step 1. From TAGML to XML "
   ]
  },
  {
   "cell_type": "markdown",
   "metadata": {},
   "source": [
    "Open your terminal window in a new tab. \n",
    "\n",
    "Navigate to the `example` directory in which you're running _Alexandria_. \n",
    "\n",
    "Check whether you're in the right place by typing `ls`. If you see the directories `tagml/`, `views/`, etc you're in the right place. If not, type `pwd` and compare your current directory with the directory that contains the `example` folder."
   ]
  },
  {
   "cell_type": "markdown",
   "metadata": {},
   "source": [
    "Once you're in the `example/` directory in which Alexandria is running, you can type `alexandria status` to check the status of your document(s) and view(s)."
   ]
  },
  {
   "cell_type": "code",
   "execution_count": null,
   "metadata": {},
   "outputs": [],
   "source": [
    "!alexandria status"
   ]
  },
  {
   "cell_type": "markdown",
   "metadata": {},
   "source": [
    "You'll get an overview of \n",
    "- the active view\n",
    "- the document(s) registered in _Alexandria_; their source, date of creation and modification\n",
    "- the views registered in _Alexandria_ and the layers or markup elements that each view shows\n",
    "\n",
    "The previous notebook illustrated how you could upload a document and two views in _Alexandria_, and how you could checkout a view. If you followed those steps accurately, the output of the `alexandria status` command should look as follows:"
   ]
  },
  {
   "cell_type": "markdown",
   "metadata": {},
   "source": [
    "![Overview of Alexandria status command](images/overview-alexandria-status.png)"
   ]
  },
  {
   "cell_type": "markdown",
   "metadata": {},
   "source": [
    "If another view is active, run `alexandria checkout -` to checkout the main view:"
   ]
  },
  {
   "cell_type": "code",
   "execution_count": null,
   "metadata": {},
   "outputs": [],
   "source": [
    "! alexandria checkout -"
   ]
  },
  {
   "cell_type": "markdown",
   "metadata": {},
   "source": [
    "Switch to the tab with the folder overview in your Jupyter Hub and open the file `lighthouse-woolf.tagml` in a new tab. This is the master file that is registered in _Alexandria_ as `lighthouse-woolf`. \n",
    "\n",
    "Note that the file contains two layers, `T` and `D`. \n",
    "\n",
    "The `T`-layer represents textual markup (chapters, paragraphs, sentences) and the `D`-layer represents documentary markup (page, lines). In XML, the structure of these markup elements would overlap. The layer-functionality of TAG ensures that one document can contain potentially overlapping markup structures."
   ]
  },
  {
   "cell_type": "markdown",
   "metadata": {},
   "source": [
    "We are now going to export the TAGML document `lighthouse-woolf` to XML. Since the XML data structure supports one hierarchy only, we will checkout only the markup contained in the `T`-layer. This means that the resulting XML file will have a hierarchical structure of chapters, paragraphs and lines. \n",
    "\n",
    "Switch to the tab with your terminal and run `alexandria checkout view-T-layer`:"
   ]
  },
  {
   "cell_type": "code",
   "execution_count": null,
   "metadata": {},
   "outputs": [],
   "source": [
    "! alexandria checkout view-T-layer"
   ]
  },
  {
   "cell_type": "markdown",
   "metadata": {},
   "source": [
    "Go back to the tab with your text editor in which the file `lighthouse-woolf.tagml` is opened. Refresh the page to see the result of your checkout."
   ]
  },
  {
   "cell_type": "markdown",
   "metadata": {},
   "source": [
    "Check that the `lighthouse-woolf` document now contains the following markup elements only:\n",
    "- `excerpt`\n",
    "- `title`\n",
    "- `head`\n",
    "- `p`\n",
    "- `s`\n",
    "\n",
    "It no longer contains overlapping structures. This makes it easier to export it to an XML format."
   ]
  },
  {
   "cell_type": "markdown",
   "metadata": {},
   "source": [
    "Go back to the tab with your terminal window. Run the command `alexandria export-xml lighthouse-woolf -o lighthouse-woolf.xml`. With this command, you ask Alexandria to export the document `lighthouse-woolf` to an XML file called `lighthouse-woolf.xml`."
   ]
  },
  {
   "cell_type": "code",
   "execution_count": null,
   "metadata": {},
   "outputs": [],
   "source": [
    "! alexandria export-xml lighthouse-woolf -o lighthouse-woolf.xml"
   ]
  },
  {
   "cell_type": "markdown",
   "metadata": {},
   "source": [
    "Switch back to the tab with the `example`-folder. Check that there is now a new XML document called `lighthouse-woolf.xml`. Open the document in a new tab. It should look as follows:"
   ]
  },
  {
   "cell_type": "markdown",
   "metadata": {},
   "source": [
    "```\n",
    "<?xml version=\"1.0\" encoding=\"UTF-8\"?>\n",
    "<xml>\n",
    "    <excerpt work=\"To The Lighthouse\" author=\"Virginia Woolf\" source=\"http://www.woolfonline.com\">\n",
    "    <title>TIME PASSES</title>\n",
    "    <chapter n=\"1\">\n",
    "    <head>I</head>\n",
    "    <p n=\"1\">\n",
    "        <s n=\"1\">It grew darker.</s>\n",
    "        <s n=\"2\">Clouds covered the moon; in the early hours of the morning a thin rain drummed on the roof, and starlight and moonlight and all light on sky and earth was quenched.</s>\n",
    "        \n",
    "        <! -- more text here -->\n",
    "        \n",
    "    </p>\n",
    "    </excerpt>\n",
    "</xml>\n",
    "```"
   ]
  },
  {
   "cell_type": "markdown",
   "metadata": {},
   "source": [
    "## Step 2. From XML to HTML"
   ]
  },
  {
   "cell_type": "markdown",
   "metadata": {},
   "source": [
    "The output file `lighthouse-woolf.xml` can be processed with existing, XML-based analysis tools. \n",
    "\n",
    "By way of illustration, this section demonstrates how the XML file `lighthouse-woolf.xml` can be transformed to simple HTML output using an XSLT file."
   ]
  },
  {
   "cell_type": "markdown",
   "metadata": {},
   "source": [
    "Remember the workflow of _Alexandria_? In the case of an export, it would look like this:\n",
    "\n",
    "![Workflow of Alexandria](images/workflow-alexandria-export-snip.png)"
   ]
  },
  {
   "cell_type": "markdown",
   "metadata": {},
   "source": [
    "After checking out the document with the view `view-T-layer`, we have exported it to an XML format `lighthouse-woolf.xml`. We will now convert this XML file to HTML with XSLT."
   ]
  },
  {
   "cell_type": "markdown",
   "metadata": {},
   "source": [
    "Switch to the `example/` folder. This contains a directory called `lighthouse.xsl`. If you like you can open the file in a new tab and check it out. It's a basic XSLT file; if you like you can adjust or customize it."
   ]
  },
  {
   "cell_type": "markdown",
   "metadata": {},
   "source": [
    "The `example/` folder also contains a simple Python script called `transform_xml.py` that calls the file `lighthouse.xsl` and applies the XSL transformation to the xml file you just created. "
   ]
  },
  {
   "cell_type": "code",
   "execution_count": null,
   "metadata": {},
   "outputs": [],
   "source": [
    "# check if lxml package is installed\n",
    "# take the XML file and apply the XSLT file and store the result in lighthouse.html \n",
    "! transform_xml.py lighthouse.xml lighthouse.xsl lighthouse.html"
   ]
  },
  {
   "cell_type": "markdown",
   "metadata": {},
   "source": [
    "Switch back to the tab with the `example/` directory. Open the file `lighthouse.html` in a new tab to check it out."
   ]
  }
 ],
 "metadata": {
  "kernelspec": {
   "display_name": "Python 3",
   "language": "python",
   "name": "python3"
  },
  "language_info": {
   "codemirror_mode": {
    "name": "ipython",
    "version": 3
   },
   "file_extension": ".py",
   "mimetype": "text/x-python",
   "name": "python",
   "nbconvert_exporter": "python",
   "pygments_lexer": "ipython3",
   "version": "3.6.5"
  }
 },
 "nbformat": 4,
 "nbformat_minor": 2
}
