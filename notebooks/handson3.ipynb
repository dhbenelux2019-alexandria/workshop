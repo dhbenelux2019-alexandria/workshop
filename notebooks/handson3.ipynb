{
 "cells": [
  {
   "cell_type": "markdown",
   "metadata": {},
   "source": [
    "#  Transformations: from TAGML to HTML"
   ]
  },
  {
   "cell_type": "markdown",
   "metadata": {},
   "source": [
    "## Introduction\n",
    "\n",
    "If you have an existing editorial workflow, you're likely to use X-technology tools like XSLT or XQuery for transformation, publication, visualisation or analysis. \n",
    "\n",
    "You can export your TAGML to a number of existing formats (XML, SVG, PNG and dot) so that you can continue using the publication framework of your choice. As a result, it is easy to implement _Alexandria_ into an existing workflow.\n",
    "\n",
    "This notebook provides two examples of the transformation from TAGML to HTML. It assumes that _Alexandria_ is running on your local machine, that your local _Alexandria_ repository contains at least one TAGML file, and one or more views.\n",
    "\n",
    "Before you start, let's take a closer look at the implications and consequences of transforming a TAGML document to another data format."
   ]
  },
  {
   "cell_type": "markdown",
   "metadata": {},
   "source": [
    "### Envision the _Alexandria_ workflow\n",
    "![Workflow of Alexandria](images/workflow-alexandria_v3.png)"
   ]
  },
  {
   "cell_type": "markdown",
   "metadata": {},
   "source": [
    "Let's say that document `A` in your local repo contains three layers of markup. You may want to export the document _as is_, but keep in mind that it's rich in information and this has consequences for the export. For example: the more information document `A` contains, the more visually challenging an SVG file will be."
   ]
  },
  {
   "cell_type": "markdown",
   "metadata": {},
   "source": [
    "### Reduction of information\n",
    "\n",
    "Exporting a TAGML document to another format usually implies an information reduction, because of the richt data structure of TAG and the different types of data it contains. This means you have to make a number of decisions:\n",
    "\n",
    "1. What are the properties, strengths, and limitations of the format you are converting to? What are the consequences for the information you are converting? For example: if you are converting to XML, your text will be transformed in a hierarchical tree structure. \n",
    "\n",
    "\n",
    "2. What do you want to do with the exported file? Is it going to be a PNG or SVG file for visualisation, an XML file for further analysis or publication, etc. In short: what are the reasons for converting? \n",
    "\n",
    "With these considerations in mind, you can make an informed choice about what information you want to see, what information is irrelevant and what format will best suit your purposes."
   ]
  },
  {
   "cell_type": "markdown",
   "metadata": {},
   "source": [
    "## Step 1. From TAGML to XML "
   ]
  },
  {
   "cell_type": "markdown",
   "metadata": {},
   "source": [
    "- TAGML document in _Alexandria_\n",
    "- view in Alexandria\n",
    "- checkout view (one layer, no overlap)\n",
    "- export view to XML\n",
    "- open XML (in oXygen? in JHUB?)"
   ]
  },
  {
   "cell_type": "markdown",
   "metadata": {},
   "source": [
    "## Step 2. From XML to HTML"
   ]
  },
  {
   "cell_type": "markdown",
   "metadata": {},
   "source": [
    "- Open XSL file\n",
    "- Check whether it does what you want it to do; if not adjust it\n",
    "- Apply transformation scenario \n",
    "    - Via oXygen\n",
    "    - Via Python script\n",
    "- Voilà: HTML"
   ]
  },
  {
   "cell_type": "markdown",
   "metadata": {},
   "source": [
    "## Conclusion"
   ]
  },
  {
   "cell_type": "code",
   "execution_count": null,
   "metadata": {},
   "outputs": [],
   "source": []
  }
 ],
 "metadata": {
  "kernelspec": {
   "display_name": "Python 3",
   "language": "python",
   "name": "python3"
  },
  "language_info": {
   "codemirror_mode": {
    "name": "ipython",
    "version": 3
   },
   "file_extension": ".py",
   "mimetype": "text/x-python",
   "name": "python",
   "nbconvert_exporter": "python",
   "pygments_lexer": "ipython3",
   "version": "3.6.5"
  }
 },
 "nbformat": 4,
 "nbformat_minor": 2
}
